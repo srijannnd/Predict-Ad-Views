{
 "cells": [
  {
   "cell_type": "code",
   "execution_count": 1,
   "metadata": {
    "collapsed": true
   },
   "outputs": [],
   "source": [
    "import numpy as np\n",
    "import pandas as pd\n",
    "from matplotlib import pyplot as plt\n",
    "%matplotlib inline\n",
    "import seaborn as sns\n",
    "from sklearn.linear_model import LinearRegression\n",
    "from datetime import datetime"
   ]
  },
  {
   "cell_type": "code",
   "execution_count": 2,
   "metadata": {
    "collapsed": true
   },
   "outputs": [],
   "source": [
    "ds = pd.read_csv('./ad_org_train.csv')"
   ]
  },
  {
   "cell_type": "markdown",
   "metadata": {},
   "source": [
    "# Functions"
   ]
  },
  {
   "cell_type": "code",
   "execution_count": 3,
   "metadata": {
    "collapsed": true
   },
   "outputs": [],
   "source": [
    "# Converting Category values to Numbers\n",
    "\n",
    "def convert_category_to_num(cs):\n",
    "    if cs == 'A':\n",
    "        return 0\n",
    "    elif cs == 'B':\n",
    "        return 1\n",
    "    elif cs == 'C':\n",
    "        return 2\n",
    "    elif cs == 'D':\n",
    "        return 3\n",
    "    elif cs == 'E':\n",
    "        return 4\n",
    "    elif cs == 'F':\n",
    "        return 5\n",
    "    elif cs == 'G':\n",
    "        return 6\n",
    "    elif cs == 'H':\n",
    "        return 7\n",
    "    else:\n",
    "        return cs\n",
    "    \n",
    "# Converting Duration in seconds\n",
    "    \n",
    "def convert_time_to_sec(t):\n",
    "    if t[-1] != 'S':\n",
    "        t = t +'S'\n",
    "    t = t.replace('PT', '')\n",
    "    t = t.replace('S', '+ 0')\n",
    "    t = t.replace('H', '*60 + ')\n",
    "    t = t.replace('M', '*60+ ')\n",
    "    return eval(t)**(1/8)\n",
    "\n",
    "# Replacing all 'F' values to Zero\n",
    "\n",
    "def convert_str_to_num(t):\n",
    "    if t=='F':\n",
    "        return 0\n",
    "    else:    \n",
    "        return eval(t)**(1/8)\n",
    "\n",
    "# Converting Published date to the number of days till today\n",
    "\n",
    "def convert_published_to_days(d):\n",
    "    part = d.split('-')\n",
    "    date_str = datetime.strptime('%s %s %s' % (part[0], part[1], part[2]), '%Y %m %d').strftime('%Y%m%d')\n",
    "    d = datetime.strptime(date_str, \"%Y%m%d\").date()\n",
    "    d = datetime.now().date() - d\n",
    "    return d.days**(1/8)\n",
    "\n",
    "# Replacing negative Predictions to Zero\n",
    "\n",
    "def no_negatives(x):\n",
    "    if x<0:\n",
    "        return 0\n",
    "    elif x>5429665:\n",
    "        return 5429665\n",
    "    else:\n",
    "        return x"
   ]
  },
  {
   "cell_type": "code",
   "execution_count": 4,
   "metadata": {},
   "outputs": [],
   "source": [
    "# processing train data\n",
    "train = ds.drop('vidid', axis=1)\n",
    "train['duration'] = train['duration'].map(convert_time_to_sec)\n",
    "train['views'] = train['views'].map(convert_str_to_num)\n",
    "train['likes'] = train['likes'].map(convert_str_to_num)\n",
    "train['dislikes'] = train['dislikes'].map(convert_str_to_num)\n",
    "train['comment'] = train['comment'].map(convert_str_to_num)\n",
    "train['category'] = train['category'].map(convert_category_to_num)\n",
    "train['published'] = train['published'].map(convert_published_to_days)"
   ]
  },
  {
   "cell_type": "code",
   "execution_count": 5,
   "metadata": {},
   "outputs": [
    {
     "data": {
      "text/plain": [
       "<matplotlib.axes._subplots.AxesSubplot at 0x906cdb0>"
      ]
     },
     "execution_count": 5,
     "metadata": {},
     "output_type": "execute_result"
    },
    {
     "data": {
      "image/png": "[encoded data removed]",
      "text/plain": [
       "<matplotlib.figure.Figure at 0x906cd50>"
      ]
     },
     "metadata": {},
     "output_type": "display_data"
    }
   ],
   "source": [
    "plt.figure(0)\n",
    "sns.heatmap(train.corr())"
   ]
  },
  {
   "cell_type": "code",
   "execution_count": 6,
   "metadata": {
    "collapsed": true
   },
   "outputs": [],
   "source": [
    "# Dividing training data into inputs and outputs\n",
    "input_cols = ['views', 'likes', 'dislikes', 'comment', 'duration', 'category', 'published']\n",
    "output_cols = ['adview']\n",
    "x_train = train[input_cols]\n",
    "y_train = train[output_cols]"
   ]
  },
  {
   "cell_type": "code",
   "execution_count": 7,
   "metadata": {},
   "outputs": [
    {
     "data": {
      "text/plain": [
       "LinearRegression(copy_X=True, fit_intercept=True, n_jobs=1, normalize=True)"
      ]
     },
     "execution_count": 7,
     "metadata": {},
     "output_type": "execute_result"
    }
   ],
   "source": [
    "#linear Regression Model\n",
    "lr = LinearRegression(normalize=True)\n",
    "lr.fit(x_train, y_train)"
   ]
  },
  {
   "cell_type": "code",
   "execution_count": 8,
   "metadata": {
    "collapsed": true
   },
   "outputs": [],
   "source": [
    "# processing test file\n",
    "test = pd.read_csv('./ad_org_test.csv')\n",
    "test['duration'] = test['duration'].map(convert_time_to_sec)\n",
    "test['views'] = test['views'].map(convert_str_to_num)\n",
    "test['likes'] = test['likes'].map(convert_str_to_num)\n",
    "test['dislikes'] = test['dislikes'].map(convert_str_to_num)\n",
    "test['comment'] = test['comment'].map(convert_str_to_num)\n",
    "test['category'] = test['category'].map(convert_category_to_num)\n",
    "test['published'] = test['published'].map(convert_published_to_days)"
   ]
  },
  {
   "cell_type": "code",
   "execution_count": 9,
   "metadata": {
    "collapsed": true
   },
   "outputs": [],
   "source": [
    "# getting predictions\n",
    "result =lr.predict(test[input_cols])"
   ]
  },
  {
   "cell_type": "code",
   "execution_count": 10,
   "metadata": {},
   "outputs": [],
   "source": [
    "# converting results in Integers\n",
    "result = np.asarray(result, dtype='int32')"
   ]
  },
  {
   "cell_type": "code",
   "execution_count": 11,
   "metadata": {
    "collapsed": true
   },
   "outputs": [],
   "source": [
    "# Replacing negative Predictions to Zero\n",
    "for i in range(result.shape[0]):\n",
    "    result[i] = no_negatives(int(result[i]))"
   ]
  },
  {
   "cell_type": "code",
   "execution_count": 12,
   "metadata": {
    "collapsed": true
   },
   "outputs": [],
   "source": [
    "# preparing test_result.csv\n",
    "answer = test\n",
    "answer = answer.drop(input_cols, axis=1)\n",
    "answer['ad_view'] = result\n",
    "answer = answer.to_csv('test_result.csv', index=False, encoding='utf-8')"
   ]
  }
 ],
 "metadata": {
  "kernelspec": {
   "display_name": "Python 3",
   "language": "python",
   "name": "python3"
  },
  "language_info": {
   "codemirror_mode": {
    "name": "ipython",
    "version": 3
   },
   "file_extension": ".py",
   "mimetype": "text/x-python",
   "name": "python",
   "nbconvert_exporter": "python",
   "pygments_lexer": "ipython3",
   "version": "3.4.4"
  }
 },
 "nbformat": 4,
 "nbformat_minor": 2
}
